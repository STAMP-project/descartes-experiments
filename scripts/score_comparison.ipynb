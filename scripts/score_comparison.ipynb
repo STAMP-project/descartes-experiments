{
 "cells": [
  {
   "cell_type": "markdown",
   "metadata": {},
   "source": [
    "# Comparison between Descartes and Gregor\n",
    "Import dependencies."
   ]
  },
  {
   "cell_type": "code",
   "execution_count": 12,
   "metadata": {
    "collapsed": true
   },
   "outputs": [],
   "source": [
    "%matplotlib inline\n",
    "import matplotlib.pyplot as plt\n",
    "from scipy.stats import spearmanr\n",
    "from IPython.display import HTML\n",
    "from tables import IPythonTableBuilder\n",
    "from projects import Project\n",
    "from score_comparison import get_both_scores, render_table, show_plot"
   ]
  },
  {
   "cell_type": "markdown",
   "metadata": {},
   "source": [
    "Get the list of projects and compute the scores for both mutation engines."
   ]
  },
  {
   "cell_type": "code",
   "execution_count": 2,
   "metadata": {
    "collapsed": true
   },
   "outputs": [],
   "source": [
    "projects = list(Project.available_projects())\n",
    "scores = [get_both_scores(p) for p in projects]\n",
    "descartes = [s[0].score for s in scores]\n",
    "gregor = [s[1].score for s in scores]"
   ]
  },
  {
   "cell_type": "markdown",
   "metadata": {},
   "source": [
    "Render a table listing all projects and all measured statistics."
   ]
  },
  {
   "cell_type": "code",
   "execution_count": 6,
   "metadata": {
    "scrolled": true
   },
   "outputs": [
    {
     "data": {
      "text/html": [
       "<table><tr><th>Project</th><th style=\"text-align:right\">Mutants</th><th style=\"text-align:right\">Killed</th><th style=\"text-align:right\">Score</th><th style=\"text-align:right\">Mutants</th><th style=\"text-align:right\">Killed</th><th style=\"text-align:right\">Score</th></tr><tr><td>AuthZForce PDP Core</td><td>378</td><td>358</td><td>94.71</td><td>3536</td><td>3188</td><td>90.16</td></tr><tr><td>Amazon Web Services SDK</td><td>3090</td><td>2732</td><td>88.41</td><td>17406</td><td>13536</td><td>77.77</td></tr><tr><td>Apache Commons CLI</td><td>256</td><td>246</td><td>96.09</td><td>2455</td><td>2183</td><td>88.92</td></tr><tr><td>Apache Commons Codec</td><td>912</td><td>875</td><td>95.94</td><td>8687</td><td>7765</td><td>89.39</td></tr><tr><td>Apache Commons Collections</td><td>1556</td><td>1463</td><td>94.02</td><td>8144</td><td>7073</td><td>86.85</td></tr><tr><td>Apache Commons IO</td><td>1035</td><td>968</td><td>93.53</td><td>7633</td><td>6500</td><td>85.16</td></tr><tr><td>Apache Commons Lang</td><td>3261</td><td>3135</td><td>96.14</td><td>25431</td><td>22120</td><td>86.98</td></tr><tr><td>Apache Flink</td><td>2781</td><td>2373</td><td>85.33</td><td>21350</td><td>16647</td><td>77.97</td></tr><tr><td>Google Gson</td><td>657</td><td>617</td><td>93.91</td><td>6179</td><td>5079</td><td>82.20</td></tr><tr><td>Jaxen XPath Engine</td><td>953</td><td>921</td><td>96.64</td><td>9002</td><td>6041</td><td>67.11</td></tr><tr><td>JFreeChart</td><td>4686</td><td>3775</td><td>80.56</td><td>47305</td><td>28080</td><td>59.36</td></tr><tr><td>Java Git</td><td>5007</td><td>4507</td><td>90.01</td><td>54441</td><td>40756</td><td>74.86</td></tr><tr><td>Joda-Time</td><td>3996</td><td>3827</td><td>95.77</td><td>26443</td><td>21911</td><td>82.86</td></tr><tr><td>JOpt Simple</td><td>397</td><td>379</td><td>95.47</td><td>2136</td><td>2000</td><td>93.63</td></tr><tr><td>jsoup</td><td>1248</td><td>1197</td><td>95.91</td><td>11092</td><td>8771</td><td>79.08</td></tr><tr><td>SAT4J Core</td><td>804</td><td>617</td><td>76.74</td><td>7945</td><td>5489</td><td>69.09</td></tr><tr><td>Apache PdfBox</td><td>3185</td><td>2548</td><td>80.00</td><td>32753</td><td>20226</td><td>61.75</td></tr><tr><td>SCIFIO</td><td>1235</td><td>1158</td><td>93.77</td><td>19615</td><td>9496</td><td>48.41</td></tr><tr><td>Spoon</td><td>3452</td><td>3171</td><td>91.86</td><td>34694</td><td>27519</td><td>79.32</td></tr><tr><td>Urban Airship Client Library</td><td>2362</td><td>2242</td><td>94.92</td><td>11015</td><td>8956</td><td>81.31</td></tr><tr><td>XWiki Rendering Engine</td><td>3099</td><td>2594</td><td>83.70</td><td>50472</td><td>26292</td><td>52.09</td></tr></table>"
      ],
      "text/plain": [
       "<IPython.core.display.HTML object>"
      ]
     },
     "metadata": {},
     "output_type": "display_data"
    }
   ],
   "source": [
    "render_table([p.name for p in projects], scores, IPythonTableBuilder)"
   ]
  },
  {
   "cell_type": "markdown",
   "metadata": {},
   "source": [
    "Show the visual correlation of the scores obtained by both mutation engines."
   ]
  },
  {
   "cell_type": "code",
   "execution_count": 9,
   "metadata": {},
   "outputs": [
    {
     "data": {
      "image/png": "[encoded data removed]",
      "text/plain": [
       "<matplotlib.figure.Figure at 0x1267180b8>"
      ]
     },
     "metadata": {},
     "output_type": "display_data"
    }
   ],
   "source": [
    "show_plot(descartes, gregor)"
   ]
  },
  {
   "cell_type": "markdown",
   "metadata": {},
   "source": [
    "Compute and show the [Spearman correlation](https://en.wikipedia.org/wiki/Spearman%27s_rank_correlation_coefficient) between both sets of scores."
   ]
  },
  {
   "cell_type": "code",
   "execution_count": 16,
   "metadata": {},
   "outputs": [
    {
     "data": {
      "text/html": [
       "\n",
       "The Spearman correlation coefficient is <strong>0.6051948051948052</strong> \n",
       "with a p-value of <strong>0.0036506664478326966</strong>\n"
      ],
      "text/plain": [
       "<IPython.core.display.HTML object>"
      ]
     },
     "execution_count": 16,
     "metadata": {},
     "output_type": "execute_result"
    }
   ],
   "source": [
    "corr = spearmanr(descartes, gregor)\n",
    "HTML(f'''\n",
    "The Spearman correlation coefficient is <strong>{corr.correlation}</strong> \n",
    "with a p-value of <strong>{corr.pvalue}</strong>\n",
    "''')"
   ]
  }
 ],
 "metadata": {
  "kernelspec": {
   "display_name": "Python 3",
   "language": "python",
   "name": "python3"
  },
  "language_info": {
   "codemirror_mode": {
    "name": "ipython",
    "version": 3
   },
   "file_extension": ".py",
   "mimetype": "text/x-python",
   "name": "python",
   "nbconvert_exporter": "python",
   "pygments_lexer": "ipython3",
   "version": "3.6.4"
  }
 },
 "nbformat": 4,
 "nbformat_minor": 2
}
