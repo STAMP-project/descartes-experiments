{
 "cells": [
  {
   "cell_type": "markdown",
   "metadata": {},
   "source": [
    "# Comparison between Descartes and Gregor\n",
    "This file shows the execution time and number of mutants created for both engines."
   ]
  },
  {
   "cell_type": "code",
   "execution_count": 1,
   "metadata": {
    "collapsed": true
   },
   "outputs": [],
   "source": [
    "from projects import Project\n",
    "from project_stats import time_table, mutants_table\n",
    "from tables import IPythonTableBuilder"
   ]
  },
  {
   "cell_type": "code",
   "execution_count": 2,
   "metadata": {
    "collapsed": true
   },
   "outputs": [],
   "source": [
    "projects = [(p.name, p.descartes, p.gregor) for p in Project.available_projects()]"
   ]
  },
  {
   "cell_type": "markdown",
   "metadata": {},
   "source": [
    "## Execution time"
   ]
  },
  {
   "cell_type": "code",
   "execution_count": 3,
   "metadata": {},
   "outputs": [
    {
     "data": {
      "text/html": [
       "<table><tr><th>Project</th><th style=\"text-align:right\">Descartes</th><th style=\"text-align:right\">Gregor</th></tr><tr><td>AuthZForce PDP Core</td><td>0:08:00</td><td>1:23:50</td></tr><tr><td>Amazon Web Services SDK</td><td>1:32:23</td><td>6:11:22</td></tr><tr><td>Apache Commons CLI</td><td>0:00:13</td><td>0:01:26</td></tr><tr><td>Apache Commons Codec</td><td>0:02:02</td><td>0:07:57</td></tr><tr><td>Apache Commons Collections</td><td>0:01:41</td><td>0:05:41</td></tr><tr><td>Apache Commons IO</td><td>0:02:16</td><td>0:12:48</td></tr><tr><td>Apache Commons Lang</td><td>0:02:07</td><td>0:21:02</td></tr><tr><td>Apache Flink</td><td>0:14:04</td><td>2:29:45</td></tr><tr><td>Google Gson</td><td>0:01:08</td><td>0:05:34</td></tr><tr><td>Jaxen XPath Engine</td><td>0:01:31</td><td>0:24:40</td></tr><tr><td>JFreeChart</td><td>0:05:48</td><td>0:41:28</td></tr><tr><td>Java Git</td><td>1:30:08</td><td>16:02:03</td></tr><tr><td>Joda-Time</td><td>0:03:39</td><td>0:16:32</td></tr><tr><td>JOpt Simple</td><td>0:00:37</td><td>0:01:36</td></tr><tr><td>jsoup</td><td>0:02:43</td><td>0:12:49</td></tr><tr><td>SAT4J Core</td><td>0:53:09</td><td>10:55:50</td></tr><tr><td>Apache PdfBox</td><td>0:44:07</td><td>6:20:25</td></tr><tr><td>SCIFIO</td><td>0:24:14</td><td>3:12:11</td></tr><tr><td>Spoon</td><td>2:24:55</td><td>56:47:57</td></tr><tr><td>Urban Airship Client Library</td><td>0:07:25</td><td>0:11:31</td></tr><tr><td>XWiki Rendering Engine</td><td>0:10:56</td><td>2:07:19</td></tr></table>"
      ],
      "text/plain": [
       "<IPython.core.display.HTML object>"
      ]
     },
     "metadata": {},
     "output_type": "display_data"
    }
   ],
   "source": [
    "time_table(projects, IPythonTableBuilder)"
   ]
  },
  {
   "cell_type": "markdown",
   "metadata": {},
   "source": [
    "## Mutants created"
   ]
  },
  {
   "cell_type": "code",
   "execution_count": 4,
   "metadata": {},
   "outputs": [
    {
     "data": {
      "text/html": [
       "<table><tr><th>Project</th><th style=\"text-align:right\">Descartes</th><th style=\"text-align:right\">Gregor</th></tr><tr><td>AuthZForce PDP Core</td><td>626</td><td>7296</td></tr><tr><td>Amazon Web Services SDK</td><td>161758</td><td>2141689</td></tr><tr><td>Apache Commons CLI</td><td>271</td><td>2560</td></tr><tr><td>Apache Commons Codec</td><td>979</td><td>9233</td></tr><tr><td>Apache Commons Collections</td><td>3558</td><td>20394</td></tr><tr><td>Apache Commons IO</td><td>1164</td><td>8809</td></tr><tr><td>Apache Commons Lang</td><td>3872</td><td>30361</td></tr><tr><td>Apache Flink</td><td>4935</td><td>43619</td></tr><tr><td>Google Gson</td><td>848</td><td>7353</td></tr><tr><td>Jaxen XPath Engine</td><td>1252</td><td>12210</td></tr><tr><td>JFreeChart</td><td>7210</td><td>89592</td></tr><tr><td>Java Git</td><td>7152</td><td>78316</td></tr><tr><td>Joda-Time</td><td>4525</td><td>31233</td></tr><tr><td>JOpt Simple</td><td>412</td><td>2271</td></tr><tr><td>jsoup</td><td>1566</td><td>14054</td></tr><tr><td>SAT4J Core</td><td>2304</td><td>17163</td></tr><tr><td>Apache PdfBox</td><td>7559</td><td>79763</td></tr><tr><td>SCIFIO</td><td>3627</td><td>62768</td></tr><tr><td>Spoon</td><td>4713</td><td>43916</td></tr><tr><td>Urban Airship Client Library</td><td>3082</td><td>17345</td></tr><tr><td>XWiki Rendering Engine</td><td>5534</td><td>112605</td></tr></table>"
      ],
      "text/plain": [
       "<IPython.core.display.HTML object>"
      ]
     },
     "metadata": {},
     "output_type": "display_data"
    }
   ],
   "source": [
    "mutants_table(projects, IPythonTableBuilder)"
   ]
  },
  {
   "cell_type": "code",
   "execution_count": null,
   "metadata": {
    "collapsed": true
   },
   "outputs": [],
   "source": []
  }
 ],
 "metadata": {
  "kernelspec": {
   "display_name": "Python 3",
   "language": "python",
   "name": "python3"
  },
  "language_info": {
   "codemirror_mode": {
    "name": "ipython",
    "version": 3
   },
   "file_extension": ".py",
   "mimetype": "text/x-python",
   "name": "python",
   "nbconvert_exporter": "python",
   "pygments_lexer": "ipython3",
   "version": "3.6.4"
  }
 },
 "nbformat": 4,
 "nbformat_minor": 2
}
