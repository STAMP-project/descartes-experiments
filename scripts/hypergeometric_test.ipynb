{
 "cells": [
  {
   "cell_type": "markdown",
   "metadata": {},
   "source": [
    "The [**hypergeometric distribution**](https://en.wikipedia.org/wiki/Hypergeometric_distribution) is a discrete probability function that describes the probability of obtaining *k* *successes* after random *n* draws from a finite population of size *N* without replacement.\n",
    "\n",
    "The last condition of the definition means that no object can be drawn twice. Once an object is drawn it can not be drawn again. In that, the hypergeometric distribution is different from the [binomial distribution](https://en.wikipedia.org/wiki/Binomial_distribution). In both distributions, each draw is independent from the others.\n",
    "\n",
    "When performing mutation testing, the test suite is executed against each mutant to see if it can be detected or not. The outcome of each execution is expected to be independent from the other executions. That is, the result of analyzing one mutant should not affect the others. (In practice this can be violated if, for example, a mutant leaves a file in an invalid state and the same file is used by another mutant and it is being detected for that fact.)\n",
    "\n",
    "Let *P* be a program where a set *M* of *N* mutants were created. We consider a draw of a mutant *m* in *M* successful if (and only if) *m* was detected by the test suite. Let *PT* be a subset of *M* that contains all mutants created in the body of *pseudo-tested methods* and let *n* be the size of *PT*. Let *k* be the number of detected mutants in *PT*. The mutation score obtained by the test suite over *PT* is *k/n*.\n",
    "\n",
    "We can use the cumulative distribution function of the hypergeometric distribution to know the probability of randomly selecting, without replacement, a set of *n* mutants from *M* and obtaining less than *k* detected mutants. That is, the probability of obtaining a set of *n* mutants for which the test suite produces a score lower or equal than *k/n*.\n",
    "\n",
    "The following table shows the probabilities computed for a set of real open-source Java projects."
   ]
  },
  {
   "cell_type": "code",
   "execution_count": 1,
   "metadata": {},
   "outputs": [
    {
     "data": {
      "text/html": [
       "<table><tr><th>Project</th><th>Probability</th></tr><tr><td>AuthZForce PDP Core</td><td>2.1263671858301563e-19</td></tr><tr><td>Amazon Web Services SDK</td><td>9.702640793035561e-305</td></tr><tr><td>Apache Commons CLI</td><td>4.6431019266796696e-33</td></tr><tr><td>Apache Commons Codec</td><td>4.09588990884728e-09</td></tr><tr><td>Apache Commons Collections</td><td>1.4227350650328154e-39</td></tr><tr><td>Apache Commons IO</td><td>4.0089725822152836e-27</td></tr><tr><td>Apache Commons Lang</td><td>1.299759643775203e-92</td></tr><tr><td>Apache Flink</td><td>1.52260112150933e-241</td></tr><tr><td>Google Gson</td><td>2.680827963272237e-49</td></tr><tr><td>Jaxen XPath Engine</td><td>1.185100896257326e-36</td></tr><tr><td>JFreeChart</td><td>0.0</td></tr><tr><td>Java Git</td><td>0.0</td></tr><tr><td>Joda-Time</td><td>0.0</td></tr><tr><td>JOpt Simple</td><td>1.0010072438945281e-06</td></tr><tr><td>jsoup</td><td>2.9928174484680616e-43</td></tr><tr><td>SAT4J Core</td><td>2.3930090198530946e-213</td></tr><tr><td>Apache PdfBox</td><td>0.0</td></tr><tr><td>SCIFIO</td><td>0.0</td></tr><tr><td>Spoon</td><td>2.3990313547696e-303</td></tr><tr><td>Urban Airship Client Library</td><td>8.630145902071957e-33</td></tr><tr><td>XWiki Rendering Engine</td><td>0.0</td></tr></table>"
      ],
      "text/plain": [
       "<IPython.core.display.HTML object>"
      ]
     },
     "metadata": {},
     "output_type": "display_data"
    }
   ],
   "source": [
    "from hypergeometric_test import show_probabilities\n",
    "from projects import Project\n",
    "from tables import IPythonTableBuilder\n",
    "show_probabilities(Project.available_projects(), build_table=IPythonTableBuilder)"
   ]
  },
  {
   "cell_type": "markdown",
   "metadata": {},
   "source": [
    "The value for each project is very close to zero or zero in some cases. This means, that the mutants planted in pseudo-tested methods are most likely to be the set of their size where the test suite achieves the lower score, and therefore, pseudo-tested methods are among the worst tested in the codebase, considering the mutation score as a metric."
   ]
  },
  {
   "cell_type": "code",
   "execution_count": null,
   "metadata": {
    "collapsed": true
   },
   "outputs": [],
   "source": []
  }
 ],
 "metadata": {
  "kernelspec": {
   "display_name": "Python 3",
   "language": "python",
   "name": "python3"
  },
  "language_info": {
   "codemirror_mode": {
    "name": "ipython",
    "version": 3
   },
   "file_extension": ".py",
   "mimetype": "text/x-python",
   "name": "python",
   "nbconvert_exporter": "python",
   "pygments_lexer": "ipython3",
   "version": "3.6.4"
  }
 },
 "nbformat": 4,
 "nbformat_minor": 2
}
